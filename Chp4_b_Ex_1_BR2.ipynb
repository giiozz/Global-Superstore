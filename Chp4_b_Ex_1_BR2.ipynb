{
  "cells": [
    {
      "cell_type": "markdown",
      "metadata": {
        "id": "view-in-github",
        "colab_type": "text"
      },
      "source": [
        "<a href=\"https://colab.research.google.com/github/giiozz/Global-Superstore/blob/main/Chp4_b_Ex_1_BR2.ipynb\" target=\"_parent\"><img src=\"https://colab.research.google.com/assets/colab-badge.svg\" alt=\"Open In Colab\"/></a>"
      ]
    },
    {
      "cell_type": "markdown",
      "metadata": {
        "id": "7ig7w3X1HWye"
      },
      "source": [
        "### Chp4_b_Ex"
      ]
    },
    {
      "cell_type": "markdown",
      "metadata": {
        "id": "KsBh3Yn1ZrwY"
      },
      "source": [
        "**1.** Write a Python program to create the multiplication table of a positive number."
      ]
    },
    {
      "cell_type": "markdown",
      "metadata": {
        "id": "dXNHH-kmHWyf"
      },
      "source": [
        "#### TEST CASES\n",
        "\n",
        "1. Input (11) --\n",
        "   \n",
        "   Output:\n",
        "   \n",
        "        11 x 1 = 11\n",
        "        11 x 2 = 22\n",
        "        11 x 3 = 33\n",
        "        11 x 4 = 44\n",
        "        11 x 5 = 55\n",
        "        11 x 6 = 66\n",
        "        11 x 7 = 77\n",
        "        11 x 8 = 88\n",
        "        11 x 9 = 99\n",
        "        11 x 10 = 110\n",
        "        11 x 11 = 121\n",
        "\n",
        "2. Input (1) -- Output (1 x 1 = 1)\n",
        "\n",
        "3. Input (0) -- Output (Error: Please input a postivie number.)\n",
        "\n",
        "4. Input (-2) -- Output (Error: Please input a postivie number.)"
      ]
    },
    {
      "cell_type": "code",
      "execution_count": null,
      "metadata": {
        "colab": {
          "base_uri": "https://localhost:8080/"
        },
        "id": "7eGyAj3AHWyf",
        "outputId": "b7eb855e-2d89-43d5-e227-30b3c2b5a3ca"
      },
      "outputs": [
        {
          "output_type": "stream",
          "name": "stdout",
          "text": [
            "Enter a number: 11\n",
            "11 X 0 = 0\n",
            "11 X 1 = 11\n",
            "11 X 2 = 22\n",
            "11 X 3 = 33\n",
            "11 X 4 = 44\n",
            "11 X 5 = 55\n",
            "11 X 6 = 66\n",
            "11 X 7 = 77\n",
            "11 X 8 = 88\n",
            "11 X 9 = 99\n",
            "11 X 10 = 110\n",
            "11 X 11 = 121\n"
          ]
        }
      ],
      "source": [
        "while True:\n",
        "  try:\n",
        "    user_input = int(input(\"Enter a number: \"))\n",
        "    while user_input <= 0:\n",
        "      user_input = int(input(\"Please enter a positive number.\"))\n",
        "    for i in range(user_input+1):\n",
        "      print(f\"{user_input} X {i} = {user_input * i}\")\n",
        "    break\n",
        "  except ValueError:\n",
        "    print(\"Error: Please enter a whole number.\")"
      ]
    },
    {
      "cell_type": "markdown",
      "metadata": {
        "id": "7TDFCN-8bGNj"
      },
      "source": [
        "**2.** Write programs that read a line of input as a string and print the string, with all vowels replaced by a comma.\n"
      ]
    },
    {
      "cell_type": "markdown",
      "metadata": {
        "id": "iTqWdWcEHWyg"
      },
      "source": [
        "#### TEST CASES\n",
        "\n",
        "1. Input (We have a dog.) -- Output (W, h,v, , d,g.)\n",
        "\n",
        "2. Input (Quick frozen fox jumps over the lazy dog.)\n",
        "\n",
        "   Output (Q,,ck fr,z,n f,x j,mps ,v,r th, l,zy d,g.)\n"
      ]
    },
    {
      "cell_type": "code",
      "execution_count": null,
      "metadata": {
        "colab": {
          "base_uri": "https://localhost:8080/"
        },
        "id": "t4j7YF-_HWyg",
        "outputId": "1291273a-75ef-4a0e-e3d8-834110c816b2"
      },
      "outputs": [
        {
          "output_type": "stream",
          "name": "stdout",
          "text": [
            "Enter a word or phrase: We have a dog.\n",
            "W, h,v, , d,g.\n"
          ]
        }
      ],
      "source": [
        "#constant - dictionary that defines which upper/lower case letters to replace with ,. Uses ascii character codes.\n",
        "VOWEL_REPLACEMENTS = {97:44, 101:44, 105:44, 111:44, 117:44, 65:44, 69:44, 73:44, 79:44, 85:44}\n",
        "user_input = input(\"Enter a word or phrase: \")\n",
        "#accesses the dictionary and translates the letters within to ,\n",
        "print(user_input.translate(VOWEL_REPLACEMENTS))"
      ]
    },
    {
      "cell_type": "markdown",
      "metadata": {
        "id": "1IwknIKGcfEc"
      },
      "source": [
        "**3.** Write a Python program to construct the following pattern, using a nested loop number, which is an input interger from the user.\n",
        "\n",
        "        1 22 333 4444 55555 666666 7777777 88888888 999999999 ... ... nnnnnnnnnnnnnnn"
      ]
    },
    {
      "cell_type": "markdown",
      "metadata": {
        "id": "4tshES4EHWyh"
      },
      "source": [
        "#### TEST CASES\n",
        "\n",
        "1. Input (0) -- Output (Error: Please input an integer other than 0.)\n",
        "\n",
        "2. Input (9) --\n",
        "\n",
        "   Output\n",
        "              \n",
        "       1\n",
        "       22\n",
        "       333\n",
        "       4444\n",
        "       55555\n",
        "       666666\n",
        "       7777777\n",
        "       88888888\n",
        "       999999999\n",
        "\n",
        "3. Input (-9) --\n",
        "\n",
        "   Output\n",
        "                \n",
        "       1\n",
        "       22\n",
        "       333\n",
        "       4444\n",
        "       55555\n",
        "       666666\n",
        "       7777777\n",
        "       88888888\n",
        "       999999999\n",
        "\n"
      ]
    },
    {
      "cell_type": "code",
      "execution_count": null,
      "metadata": {
        "id": "3idVezUZHWyh"
      },
      "outputs": [],
      "source": []
    },
    {
      "cell_type": "markdown",
      "metadata": {
        "id": "XdY6XRzldT0w"
      },
      "source": [
        "**4.** Write a program that cumputes the number of years required to double the initial balance. And the user inputs initial balance **(positive)**, and the rate **(positive)**."
      ]
    },
    {
      "cell_type": "markdown",
      "metadata": {
        "id": "Z067Jv03HWyh"
      },
      "source": [
        "#### TEST CASES\n",
        "\n",
        "1. input (0)\n",
        "   \n",
        "       output (Sorry, I didn't understand that. The balance should be positive.)\n",
        "  \n",
        "2. input (3500, -5)\n",
        "\n",
        "       output (Sorry, I didn't understand that. The rate should be positive.)\n",
        "       \n",
        "3. input (400, 1)\n",
        "\n",
        "       output (With a initial balance of $400.00, the investment can be doubled after 70 years at a rate of 1.00 %.)\n",
        "       \n"
      ]
    },
    {
      "cell_type": "code",
      "execution_count": null,
      "metadata": {
        "id": "iTgp3fOMHWyi"
      },
      "outputs": [],
      "source": []
    }
  ],
  "metadata": {
    "colab": {
      "provenance": [],
      "include_colab_link": true
    },
    "kernelspec": {
      "display_name": "Python 3 (ipykernel)",
      "language": "python",
      "name": "python3"
    },
    "language_info": {
      "codemirror_mode": {
        "name": "ipython",
        "version": 3
      },
      "file_extension": ".py",
      "mimetype": "text/x-python",
      "name": "python",
      "nbconvert_exporter": "python",
      "pygments_lexer": "ipython3",
      "version": "3.8.11"
    }
  },
  "nbformat": 4,
  "nbformat_minor": 0
}